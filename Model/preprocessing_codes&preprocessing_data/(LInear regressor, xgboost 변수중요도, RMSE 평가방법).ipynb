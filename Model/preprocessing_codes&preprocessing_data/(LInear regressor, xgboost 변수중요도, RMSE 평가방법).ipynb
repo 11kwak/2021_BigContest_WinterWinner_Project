{
 "cells": [
  {
   "cell_type": "markdown",
   "source": [
    "# 모듈\n"
   ],
   "metadata": {}
  },
  {
   "cell_type": "code",
   "execution_count": 13,
   "source": [
    "import scipy as sp\r\n",
    "import scipy.stats as stats\r\n",
    "\r\n",
    "import statsmodels.api as sm\r\n",
    "from statsmodels.formula.api import ols\r\n",
    "\r\n",
    "from sklearn.model_selection import train_test_split\r\n",
    "from sklearn.metrics import mean_squared_error, r2_score, mean_absolute_error\r\n",
    "\r\n",
    "import seaborn as sns\r\n",
    "import matplotlib.pyplot as plt\r\n",
    "import matplotlib.font_manager as fm \r\n",
    "\r\n",
    "from sklearn.model_selection import train_test_split, cross_validate\r\n",
    "from sklearn.metrics import accuracy_score, precision_score, recall_score\r\n",
    "\r\n",
    "import xgboost as xgb\r\n",
    "from xgboost import XGBClassifier, XGBRegressor\r\n",
    "from xgboost import plot_importance, plot_tree\r\n",
    "\r\n",
    "from graphviz import Source\r\n",
    "import os\r\n",
    "os.environ[\"PATH\"] += os.pathsep + 'C:/Program Files (x86)/Graphviz2.38/bin/'\r\n",
    "\r\n",
    "import numpy as np\r\n",
    "import matplotlib.pyplot as plt\r\n",
    "import pandas as pd\r\n",
    "plt.style.use(['seaborn-whitegrid'])\r\n",
    "#-*- coding:utf-8-*-\r\n",
    "\r\n",
    "plt.rc('font', family='Malgun Gothic')"
   ],
   "outputs": [],
   "metadata": {}
  },
  {
   "cell_type": "markdown",
   "source": [
    "# 데이터 불러오고 날짜를 인덱스로"
   ],
   "metadata": {}
  },
  {
   "cell_type": "code",
   "execution_count": 14,
   "source": [
    "data = pd.read_csv(r\"data\\result\\salmon_result_0.4_16.7.csv\", encoding='cp949')\r\n",
    "\r\n",
    "data['REG_DATE'] = pd.to_datetime(data['REG_DATE'])\r\n",
    "data = data.set_index('REG_DATE')\r\n",
    "data"
   ],
   "outputs": [
    {
     "output_type": "execute_result",
     "data": {
      "text/html": [
       "<div>\n",
       "<style scoped>\n",
       "    .dataframe tbody tr th:only-of-type {\n",
       "        vertical-align: middle;\n",
       "    }\n",
       "\n",
       "    .dataframe tbody tr th {\n",
       "        vertical-align: top;\n",
       "    }\n",
       "\n",
       "    .dataframe thead th {\n",
       "        text-align: right;\n",
       "    }\n",
       "</style>\n",
       "<table border=\"1\" class=\"dataframe\">\n",
       "  <thead>\n",
       "    <tr style=\"text-align: right;\">\n",
       "      <th></th>\n",
       "      <th>노르웨이</th>\n",
       "      <th>자사제품제조용</th>\n",
       "      <th>판매용</th>\n",
       "      <th>냉장</th>\n",
       "      <th>냉장,포장횟감,필렛(F)</th>\n",
       "      <th>c냉장</th>\n",
       "      <th>노르웨이 자사제품제조용</th>\n",
       "      <th>노르웨이 판매용</th>\n",
       "      <th>노르웨이 냉장</th>\n",
       "      <th>노르웨이 냉장,포장횟감,필렛(F)</th>\n",
       "      <th>...</th>\n",
       "      <th>칠레 판매용 냉장</th>\n",
       "      <th>호주 판매용 냉장</th>\n",
       "      <th>c노르웨이 자사제품제조용 냉장,포장횟감,필렛(F)</th>\n",
       "      <th>c칠레 판매용 냉장</th>\n",
       "      <th>c호주 판매용 냉장</th>\n",
       "      <th>판매용 냉장</th>\n",
       "      <th>c판매용 냉장</th>\n",
       "      <th>두바이유</th>\n",
       "      <th>MONTH_MEAN</th>\n",
       "      <th>P_PRICE</th>\n",
       "    </tr>\n",
       "    <tr>\n",
       "      <th>REG_DATE</th>\n",
       "      <th></th>\n",
       "      <th></th>\n",
       "      <th></th>\n",
       "      <th></th>\n",
       "      <th></th>\n",
       "      <th></th>\n",
       "      <th></th>\n",
       "      <th></th>\n",
       "      <th></th>\n",
       "      <th></th>\n",
       "      <th></th>\n",
       "      <th></th>\n",
       "      <th></th>\n",
       "      <th></th>\n",
       "      <th></th>\n",
       "      <th></th>\n",
       "      <th></th>\n",
       "      <th></th>\n",
       "      <th></th>\n",
       "      <th></th>\n",
       "      <th></th>\n",
       "    </tr>\n",
       "  </thead>\n",
       "  <tbody>\n",
       "    <tr>\n",
       "      <th>2016-07-04</th>\n",
       "      <td>16.485792</td>\n",
       "      <td>13.230888</td>\n",
       "      <td>14.970515</td>\n",
       "      <td>10.550202</td>\n",
       "      <td>27.135952</td>\n",
       "      <td>4</td>\n",
       "      <td>13.230888</td>\n",
       "      <td>18.113243</td>\n",
       "      <td>12.415347</td>\n",
       "      <td>27.135952</td>\n",
       "      <td>...</td>\n",
       "      <td>0.000000</td>\n",
       "      <td>0.00</td>\n",
       "      <td>0</td>\n",
       "      <td>0</td>\n",
       "      <td>0</td>\n",
       "      <td>9.810252</td>\n",
       "      <td>3</td>\n",
       "      <td>45.77</td>\n",
       "      <td>14.638469</td>\n",
       "      <td>14.535608</td>\n",
       "    </tr>\n",
       "    <tr>\n",
       "      <th>2016-07-11</th>\n",
       "      <td>17.131105</td>\n",
       "      <td>13.731346</td>\n",
       "      <td>16.297410</td>\n",
       "      <td>12.348142</td>\n",
       "      <td>26.995579</td>\n",
       "      <td>4</td>\n",
       "      <td>13.731346</td>\n",
       "      <td>18.830984</td>\n",
       "      <td>13.466022</td>\n",
       "      <td>26.995579</td>\n",
       "      <td>...</td>\n",
       "      <td>0.000000</td>\n",
       "      <td>0.00</td>\n",
       "      <td>0</td>\n",
       "      <td>0</td>\n",
       "      <td>0</td>\n",
       "      <td>11.898422</td>\n",
       "      <td>3</td>\n",
       "      <td>42.84</td>\n",
       "      <td>14.638469</td>\n",
       "      <td>15.655894</td>\n",
       "    </tr>\n",
       "    <tr>\n",
       "      <th>2016-07-18</th>\n",
       "      <td>16.986936</td>\n",
       "      <td>13.503783</td>\n",
       "      <td>15.636767</td>\n",
       "      <td>11.364483</td>\n",
       "      <td>27.159698</td>\n",
       "      <td>4</td>\n",
       "      <td>13.503783</td>\n",
       "      <td>18.728512</td>\n",
       "      <td>13.275689</td>\n",
       "      <td>27.159698</td>\n",
       "      <td>...</td>\n",
       "      <td>0.000000</td>\n",
       "      <td>0.00</td>\n",
       "      <td>0</td>\n",
       "      <td>0</td>\n",
       "      <td>0</td>\n",
       "      <td>10.665025</td>\n",
       "      <td>3</td>\n",
       "      <td>43.18</td>\n",
       "      <td>14.638469</td>\n",
       "      <td>15.103521</td>\n",
       "    </tr>\n",
       "    <tr>\n",
       "      <th>2016-07-25</th>\n",
       "      <td>16.429329</td>\n",
       "      <td>13.403198</td>\n",
       "      <td>16.144234</td>\n",
       "      <td>11.365940</td>\n",
       "      <td>27.001421</td>\n",
       "      <td>3</td>\n",
       "      <td>13.403198</td>\n",
       "      <td>17.942394</td>\n",
       "      <td>12.573113</td>\n",
       "      <td>27.001421</td>\n",
       "      <td>...</td>\n",
       "      <td>0.000000</td>\n",
       "      <td>0.00</td>\n",
       "      <td>0</td>\n",
       "      <td>0</td>\n",
       "      <td>0</td>\n",
       "      <td>10.682812</td>\n",
       "      <td>2</td>\n",
       "      <td>42.59</td>\n",
       "      <td>14.638469</td>\n",
       "      <td>15.361081</td>\n",
       "    </tr>\n",
       "    <tr>\n",
       "      <th>2016-08-01</th>\n",
       "      <td>15.540317</td>\n",
       "      <td>12.808756</td>\n",
       "      <td>14.660101</td>\n",
       "      <td>10.872516</td>\n",
       "      <td>26.863082</td>\n",
       "      <td>4</td>\n",
       "      <td>12.808756</td>\n",
       "      <td>16.906098</td>\n",
       "      <td>11.576926</td>\n",
       "      <td>26.863082</td>\n",
       "      <td>...</td>\n",
       "      <td>11.154386</td>\n",
       "      <td>0.00</td>\n",
       "      <td>0</td>\n",
       "      <td>1</td>\n",
       "      <td>0</td>\n",
       "      <td>10.506224</td>\n",
       "      <td>3</td>\n",
       "      <td>38.92</td>\n",
       "      <td>14.409441</td>\n",
       "      <td>14.197264</td>\n",
       "    </tr>\n",
       "    <tr>\n",
       "      <th>...</th>\n",
       "      <td>...</td>\n",
       "      <td>...</td>\n",
       "      <td>...</td>\n",
       "      <td>...</td>\n",
       "      <td>...</td>\n",
       "      <td>...</td>\n",
       "      <td>...</td>\n",
       "      <td>...</td>\n",
       "      <td>...</td>\n",
       "      <td>...</td>\n",
       "      <td>...</td>\n",
       "      <td>...</td>\n",
       "      <td>...</td>\n",
       "      <td>...</td>\n",
       "      <td>...</td>\n",
       "      <td>...</td>\n",
       "      <td>...</td>\n",
       "      <td>...</td>\n",
       "      <td>...</td>\n",
       "      <td>...</td>\n",
       "      <td>...</td>\n",
       "    </tr>\n",
       "    <tr>\n",
       "      <th>2020-11-30</th>\n",
       "      <td>14.542857</td>\n",
       "      <td>11.936667</td>\n",
       "      <td>14.558000</td>\n",
       "      <td>7.060000</td>\n",
       "      <td>22.370000</td>\n",
       "      <td>3</td>\n",
       "      <td>11.936667</td>\n",
       "      <td>16.497500</td>\n",
       "      <td>7.190000</td>\n",
       "      <td>22.370000</td>\n",
       "      <td>...</td>\n",
       "      <td>6.800000</td>\n",
       "      <td>0.00</td>\n",
       "      <td>1</td>\n",
       "      <td>1</td>\n",
       "      <td>0</td>\n",
       "      <td>6.990000</td>\n",
       "      <td>2</td>\n",
       "      <td>43.39</td>\n",
       "      <td>13.751467</td>\n",
       "      <td>13.575000</td>\n",
       "    </tr>\n",
       "    <tr>\n",
       "      <th>2020-12-07</th>\n",
       "      <td>14.500000</td>\n",
       "      <td>11.257500</td>\n",
       "      <td>13.951667</td>\n",
       "      <td>8.386000</td>\n",
       "      <td>22.210000</td>\n",
       "      <td>5</td>\n",
       "      <td>12.010000</td>\n",
       "      <td>16.367500</td>\n",
       "      <td>7.345000</td>\n",
       "      <td>22.210000</td>\n",
       "      <td>...</td>\n",
       "      <td>7.000000</td>\n",
       "      <td>0.00</td>\n",
       "      <td>1</td>\n",
       "      <td>1</td>\n",
       "      <td>0</td>\n",
       "      <td>8.493333</td>\n",
       "      <td>3</td>\n",
       "      <td>48.23</td>\n",
       "      <td>14.650934</td>\n",
       "      <td>12.874000</td>\n",
       "    </tr>\n",
       "    <tr>\n",
       "      <th>2020-12-14</th>\n",
       "      <td>14.571429</td>\n",
       "      <td>11.305000</td>\n",
       "      <td>13.340000</td>\n",
       "      <td>7.670000</td>\n",
       "      <td>22.555000</td>\n",
       "      <td>5</td>\n",
       "      <td>12.073333</td>\n",
       "      <td>16.445000</td>\n",
       "      <td>7.545000</td>\n",
       "      <td>22.555000</td>\n",
       "      <td>...</td>\n",
       "      <td>7.050000</td>\n",
       "      <td>7.21</td>\n",
       "      <td>1</td>\n",
       "      <td>1</td>\n",
       "      <td>1</td>\n",
       "      <td>7.260000</td>\n",
       "      <td>3</td>\n",
       "      <td>49.46</td>\n",
       "      <td>14.650934</td>\n",
       "      <td>12.526000</td>\n",
       "    </tr>\n",
       "    <tr>\n",
       "      <th>2020-12-21</th>\n",
       "      <td>14.864286</td>\n",
       "      <td>11.397500</td>\n",
       "      <td>13.651667</td>\n",
       "      <td>7.818000</td>\n",
       "      <td>22.815000</td>\n",
       "      <td>5</td>\n",
       "      <td>12.196667</td>\n",
       "      <td>16.865000</td>\n",
       "      <td>7.820000</td>\n",
       "      <td>22.815000</td>\n",
       "      <td>...</td>\n",
       "      <td>7.100000</td>\n",
       "      <td>7.35</td>\n",
       "      <td>1</td>\n",
       "      <td>1</td>\n",
       "      <td>1</td>\n",
       "      <td>7.406667</td>\n",
       "      <td>3</td>\n",
       "      <td>49.86</td>\n",
       "      <td>14.650934</td>\n",
       "      <td>12.750000</td>\n",
       "    </tr>\n",
       "    <tr>\n",
       "      <th>2020-12-28</th>\n",
       "      <td>15.207143</td>\n",
       "      <td>11.802500</td>\n",
       "      <td>15.102000</td>\n",
       "      <td>8.402500</td>\n",
       "      <td>22.470000</td>\n",
       "      <td>4</td>\n",
       "      <td>12.736667</td>\n",
       "      <td>17.060000</td>\n",
       "      <td>8.670000</td>\n",
       "      <td>22.470000</td>\n",
       "      <td>...</td>\n",
       "      <td>0.000000</td>\n",
       "      <td>7.27</td>\n",
       "      <td>1</td>\n",
       "      <td>0</td>\n",
       "      <td>1</td>\n",
       "      <td>7.930000</td>\n",
       "      <td>2</td>\n",
       "      <td>49.77</td>\n",
       "      <td>14.650934</td>\n",
       "      <td>13.635556</td>\n",
       "    </tr>\n",
       "  </tbody>\n",
       "</table>\n",
       "<p>235 rows × 25 columns</p>\n",
       "</div>"
      ],
      "text/plain": [
       "                 노르웨이    자사제품제조용        판매용         냉장  냉장,포장횟감,필렛(F)  c냉장  \\\n",
       "REG_DATE                                                                     \n",
       "2016-07-04  16.485792  13.230888  14.970515  10.550202      27.135952    4   \n",
       "2016-07-11  17.131105  13.731346  16.297410  12.348142      26.995579    4   \n",
       "2016-07-18  16.986936  13.503783  15.636767  11.364483      27.159698    4   \n",
       "2016-07-25  16.429329  13.403198  16.144234  11.365940      27.001421    3   \n",
       "2016-08-01  15.540317  12.808756  14.660101  10.872516      26.863082    4   \n",
       "...               ...        ...        ...        ...            ...  ...   \n",
       "2020-11-30  14.542857  11.936667  14.558000   7.060000      22.370000    3   \n",
       "2020-12-07  14.500000  11.257500  13.951667   8.386000      22.210000    5   \n",
       "2020-12-14  14.571429  11.305000  13.340000   7.670000      22.555000    5   \n",
       "2020-12-21  14.864286  11.397500  13.651667   7.818000      22.815000    5   \n",
       "2020-12-28  15.207143  11.802500  15.102000   8.402500      22.470000    4   \n",
       "\n",
       "            노르웨이 자사제품제조용   노르웨이 판매용    노르웨이 냉장  노르웨이 냉장,포장횟감,필렛(F)  ...  \\\n",
       "REG_DATE                                                            ...   \n",
       "2016-07-04     13.230888  18.113243  12.415347           27.135952  ...   \n",
       "2016-07-11     13.731346  18.830984  13.466022           26.995579  ...   \n",
       "2016-07-18     13.503783  18.728512  13.275689           27.159698  ...   \n",
       "2016-07-25     13.403198  17.942394  12.573113           27.001421  ...   \n",
       "2016-08-01     12.808756  16.906098  11.576926           26.863082  ...   \n",
       "...                  ...        ...        ...                 ...  ...   \n",
       "2020-11-30     11.936667  16.497500   7.190000           22.370000  ...   \n",
       "2020-12-07     12.010000  16.367500   7.345000           22.210000  ...   \n",
       "2020-12-14     12.073333  16.445000   7.545000           22.555000  ...   \n",
       "2020-12-21     12.196667  16.865000   7.820000           22.815000  ...   \n",
       "2020-12-28     12.736667  17.060000   8.670000           22.470000  ...   \n",
       "\n",
       "            칠레 판매용 냉장  호주 판매용 냉장  c노르웨이 자사제품제조용 냉장,포장횟감,필렛(F)  c칠레 판매용 냉장  \\\n",
       "REG_DATE                                                                    \n",
       "2016-07-04   0.000000       0.00                            0           0   \n",
       "2016-07-11   0.000000       0.00                            0           0   \n",
       "2016-07-18   0.000000       0.00                            0           0   \n",
       "2016-07-25   0.000000       0.00                            0           0   \n",
       "2016-08-01  11.154386       0.00                            0           1   \n",
       "...               ...        ...                          ...         ...   \n",
       "2020-11-30   6.800000       0.00                            1           1   \n",
       "2020-12-07   7.000000       0.00                            1           1   \n",
       "2020-12-14   7.050000       7.21                            1           1   \n",
       "2020-12-21   7.100000       7.35                            1           1   \n",
       "2020-12-28   0.000000       7.27                            1           0   \n",
       "\n",
       "            c호주 판매용 냉장     판매용 냉장  c판매용 냉장   두바이유  MONTH_MEAN    P_PRICE  \n",
       "REG_DATE                                                                  \n",
       "2016-07-04           0   9.810252        3  45.77   14.638469  14.535608  \n",
       "2016-07-11           0  11.898422        3  42.84   14.638469  15.655894  \n",
       "2016-07-18           0  10.665025        3  43.18   14.638469  15.103521  \n",
       "2016-07-25           0  10.682812        2  42.59   14.638469  15.361081  \n",
       "2016-08-01           0  10.506224        3  38.92   14.409441  14.197264  \n",
       "...                ...        ...      ...    ...         ...        ...  \n",
       "2020-11-30           0   6.990000        2  43.39   13.751467  13.575000  \n",
       "2020-12-07           0   8.493333        3  48.23   14.650934  12.874000  \n",
       "2020-12-14           1   7.260000        3  49.46   14.650934  12.526000  \n",
       "2020-12-21           1   7.406667        3  49.86   14.650934  12.750000  \n",
       "2020-12-28           1   7.930000        2  49.77   14.650934  13.635556  \n",
       "\n",
       "[235 rows x 25 columns]"
      ]
     },
     "metadata": {},
     "execution_count": 14
    }
   ],
   "metadata": {
    "scrolled": true
   }
  },
  {
   "cell_type": "code",
   "execution_count": 15,
   "source": [
    "data.columns"
   ],
   "outputs": [
    {
     "output_type": "execute_result",
     "data": {
      "text/plain": [
       "Index(['노르웨이', '자사제품제조용', '판매용', '냉장', '냉장,포장횟감,필렛(F)', 'c냉장', '노르웨이 자사제품제조용',\n",
       "       '노르웨이 판매용', '노르웨이 냉장', '노르웨이 냉장,포장횟감,필렛(F)', '노르웨이 냉장,필렛(F)',\n",
       "       '노르웨이 자사제품제조용 냉장,포장횟감,필렛(F)', '노르웨이 자사제품제조용 냉장,필렛(F)', '노르웨이 판매용 냉장',\n",
       "       '노르웨이 판매용 냉장,필렛(F),횟감', '칠레 판매용 냉장', '호주 판매용 냉장',\n",
       "       'c노르웨이 자사제품제조용 냉장,포장횟감,필렛(F)', 'c칠레 판매용 냉장', 'c호주 판매용 냉장', '판매용 냉장',\n",
       "       'c판매용 냉장', '두바이유', 'MONTH_MEAN', 'P_PRICE'],\n",
       "      dtype='object')"
      ]
     },
     "metadata": {},
     "execution_count": 15
    }
   ],
   "metadata": {
    "scrolled": false
   }
  },
  {
   "cell_type": "code",
   "execution_count": null,
   "source": [],
   "outputs": [],
   "metadata": {}
  },
  {
   "cell_type": "markdown",
   "source": [
    "# 열에 있는 것들 복사해서 변수로 보고 싶은걸 cols_to_use에 넣기"
   ],
   "metadata": {}
  },
  {
   "cell_type": "code",
   "execution_count": 31,
   "source": [
    "#내가 변수라고 생각하는 열들 선택\r\n",
    "cols_to_use = ['노르웨이', '자사제품제조용', '판매용', '냉장', '냉장,포장횟감,필렛(F)', 'c냉장', '노르웨이 자사제품제조용',\r\n",
    "       '노르웨이 판매용', '노르웨이 냉장', '노르웨이 냉장,포장횟감,필렛(F)', '노르웨이 냉장,필렛(F)',\r\n",
    "       '노르웨이 자사제품제조용 냉장,포장횟감,필렛(F)', '노르웨이 자사제품제조용 냉장,필렛(F)', '노르웨이 판매용 냉장',\r\n",
    "       '노르웨이 판매용 냉장,필렛(F),횟감', '칠레 판매용 냉장', '호주 판매용 냉장',\r\n",
    "       'c노르웨이 자사제품제조용 냉장,포장횟감,필렛(F)', 'c칠레 판매용 냉장', 'c호주 판매용 냉장', '판매용 냉장',\r\n",
    "       'c판매용 냉장', '두바이유', 'MONTH_MEAN']\r\n",
    "X = data[cols_to_use]\r\n",
    "\r\n",
    "#타겟 변수는 당연 p_price\r\n",
    "y = data[\"P_PRICE\"]"
   ],
   "outputs": [],
   "metadata": {}
  },
  {
   "cell_type": "markdown",
   "source": [],
   "metadata": {}
  },
  {
   "cell_type": "markdown",
   "source": [
    "# 데이터 나누기"
   ],
   "metadata": {}
  },
  {
   "cell_type": "code",
   "execution_count": 32,
   "source": [
    "X_train, X_test, y_train, y_test = train_test_split(X,y,test_size=0.2,random_state=2021)"
   ],
   "outputs": [],
   "metadata": {}
  },
  {
   "cell_type": "markdown",
   "source": [
    "# 선형회귀모델 구축하기\n",
    "## statsmodels의 OLS를 사용하여 선형회구분석 시행(Ordinary Least Squares)\n",
    "## 모델선언 model=sm.OLS(Y데이터, X데이터)\n",
    "## 모델학습 model_trained = model.fit()\n"
   ],
   "metadata": {}
  },
  {
   "cell_type": "markdown",
   "source": [
    "# 선형회귀모델 가정확인하기"
   ],
   "metadata": {}
  },
  {
   "cell_type": "code",
   "execution_count": 33,
   "source": [
    "X_train = sm.add_constant(X_train)\r\n",
    "model = sm.OLS(y_train, X_train, axis=1)\r\n",
    "model_trained = model.fit()"
   ],
   "outputs": [],
   "metadata": {}
  },
  {
   "cell_type": "markdown",
   "source": [
    "# 확률오차의 정규성확인 - 빨간석에 파란점이 모여있을수록 좋음"
   ],
   "metadata": {}
  },
  {
   "cell_type": "code",
   "execution_count": 43,
   "source": [
    "model_residuals = model_trained.resid\r\n",
    "\r\n",
    "plt.rcParams['axes.unicode_minus'] = False #음수 폰트 깨짐 방지 \r\n",
    "fig, ax = plt.subplots(1,1)\r\n",
    "fig.set_figheight(6)\r\n",
    "fig.set_figwidth(6)\r\n",
    "\r\n",
    "sm.ProbPlot(model_residuals).qqplot(line='s',color='#1177b4', ax=ax)\r\n",
    "ax.title.set_text('연어 평균단가와 두바이유, 확률오차의 정규성 확인')"
   ],
   "outputs": [
    {
     "output_type": "display_data",
     "data": {
      "image/png": "[encoded data removed]",
      "text/plain": [
       "<Figure size 432x432 with 1 Axes>"
      ]
     },
     "metadata": {}
    }
   ],
   "metadata": {}
  },
  {
   "cell_type": "markdown",
   "source": [
    "# 확률오차의 등분산성 확인 - 빨간선이 직선에 골고루 모여있으면 좋음"
   ],
   "metadata": {}
  },
  {
   "cell_type": "code",
   "execution_count": 44,
   "source": [
    "model_fitted_y = model_trained.fittedvalues\r\n",
    "\r\n",
    "fig, ax = plt.subplots(1,1)\r\n",
    "fig.set_figheight(6)\r\n",
    "fig.set_figwidth(6)\r\n",
    "\r\n",
    "sns.residplot(model_fitted_y,y_train,data=X_train,lowess=True, scatter_kws={'alpha':0.5},\r\n",
    "              line_kws={'color':'red'}, ax=ax)\r\n",
    "ax.title.set_text('연어 평균단가와 두바이유, 확률오차의 등분산성 확인')\r\n",
    "ax.set(xlabel='Fitted values', ylabel = 'Residuals')"
   ],
   "outputs": [
    {
     "output_type": "stream",
     "name": "stderr",
     "text": [
      "C:\\Users\\one1e\\anaconda3\\lib\\site-packages\\seaborn\\_decorators.py:36: FutureWarning: Pass the following variables as keyword args: x, y. From version 0.12, the only valid positional argument will be `data`, and passing other arguments without an explicit keyword will result in an error or misinterpretation.\n",
      "  warnings.warn(\n"
     ]
    },
    {
     "output_type": "execute_result",
     "data": {
      "text/plain": [
       "[Text(0.5, 0, 'Fitted values'), Text(0, 0.5, 'Residuals')]"
      ]
     },
     "metadata": {},
     "execution_count": 44
    },
    {
     "output_type": "display_data",
     "data": {
      "image/png": "[encoded data removed]",
      "text/plain": [
       "<Figure size 432x432 with 1 Axes>"
      ]
     },
     "metadata": {}
    }
   ],
   "metadata": {
    "scrolled": true
   }
  },
  {
   "cell_type": "markdown",
   "source": [],
   "metadata": {}
  },
  {
   "cell_type": "markdown",
   "source": [],
   "metadata": {}
  },
  {
   "cell_type": "markdown",
   "source": [
    "# 통계적으로 해석하기\r\n",
    "\r\n",
    "## R-squared(결정계수, coefficient of determination):모형의 성능 \r\n",
    "## coef (회귀계수) : X가 한단위 증가할때 Y의 변화량\r\n",
    "## P>[t] (p-value): 0.05(유의수준) 이하일때 변수가 유의미 \r\n"
   ],
   "metadata": {}
  },
  {
   "cell_type": "code",
   "execution_count": 36,
   "source": [
    "print(model_trained.summary())\r\n",
    "                                          # p >ltl 가 0.05 이하여야 변수가 유의미하다는것 ! "
   ],
   "outputs": [
    {
     "output_type": "stream",
     "name": "stdout",
     "text": [
      "                            OLS Regression Results                            \n",
      "==============================================================================\n",
      "Dep. Variable:                P_PRICE   R-squared:                       0.201\n",
      "Model:                            OLS   Adj. R-squared:                  0.197\n",
      "Method:                 Least Squares   F-statistic:                     46.83\n",
      "Date:                Wed, 15 Sep 2021   Prob (F-statistic):           1.09e-10\n",
      "Time:                        13:55:15   Log-Likelihood:                -244.89\n",
      "No. Observations:                 188   AIC:                             493.8\n",
      "Df Residuals:                     186   BIC:                             500.3\n",
      "Df Model:                           1                                         \n",
      "Covariance Type:            nonrobust                                         \n",
      "==============================================================================\n",
      "                 coef    std err          t      P>|t|      [0.025      0.975]\n",
      "------------------------------------------------------------------------------\n",
      "const         12.6974      0.303     41.922      0.000      12.100      13.295\n",
      "두바이유           0.0362      0.005      6.843      0.000       0.026       0.047\n",
      "==============================================================================\n",
      "Omnibus:                        5.960   Durbin-Watson:                   1.943\n",
      "Prob(Omnibus):                  0.051   Jarque-Bera (JB):                5.915\n",
      "Skew:                          -0.434   Prob(JB):                       0.0519\n",
      "Kurtosis:                       3.011   Cond. No.                         266.\n",
      "==============================================================================\n",
      "\n",
      "Notes:\n",
      "[1] Standard Errors assume that the covariance matrix of the errors is correctly specified.\n"
     ]
    }
   ],
   "metadata": {
    "scrolled": true
   }
  },
  {
   "cell_type": "markdown",
   "source": [
    "# 만약 P VALUE 값이 높다면 그것들을 제거하고 새로 모델을 만들어야"
   ],
   "metadata": {}
  },
  {
   "cell_type": "code",
   "execution_count": 37,
   "source": [
    "# model = sm.OLS(y_train, X_train.drop(['제거할열'],axis=1))\r\n",
    "# model_trained = model.fit()\r\n",
    "print(model_trained.summary())"
   ],
   "outputs": [
    {
     "output_type": "stream",
     "name": "stdout",
     "text": [
      "                            OLS Regression Results                            \n",
      "==============================================================================\n",
      "Dep. Variable:                P_PRICE   R-squared:                       0.201\n",
      "Model:                            OLS   Adj. R-squared:                  0.197\n",
      "Method:                 Least Squares   F-statistic:                     46.83\n",
      "Date:                Wed, 15 Sep 2021   Prob (F-statistic):           1.09e-10\n",
      "Time:                        13:55:15   Log-Likelihood:                -244.89\n",
      "No. Observations:                 188   AIC:                             493.8\n",
      "Df Residuals:                     186   BIC:                             500.3\n",
      "Df Model:                           1                                         \n",
      "Covariance Type:            nonrobust                                         \n",
      "==============================================================================\n",
      "                 coef    std err          t      P>|t|      [0.025      0.975]\n",
      "------------------------------------------------------------------------------\n",
      "const         12.6974      0.303     41.922      0.000      12.100      13.295\n",
      "두바이유           0.0362      0.005      6.843      0.000       0.026       0.047\n",
      "==============================================================================\n",
      "Omnibus:                        5.960   Durbin-Watson:                   1.943\n",
      "Prob(Omnibus):                  0.051   Jarque-Bera (JB):                5.915\n",
      "Skew:                          -0.434   Prob(JB):                       0.0519\n",
      "Kurtosis:                       3.011   Cond. No.                         266.\n",
      "==============================================================================\n",
      "\n",
      "Notes:\n",
      "[1] Standard Errors assume that the covariance matrix of the errors is correctly specified.\n"
     ]
    }
   ],
   "metadata": {}
  },
  {
   "cell_type": "markdown",
   "source": [
    "# XGBoost의 변수중요도 판단 - 위에 데이터 나눈걸로 그대로사용\n",
    "\n"
   ],
   "metadata": {}
  },
  {
   "cell_type": "code",
   "execution_count": 38,
   "source": [
    "xgbr = XGBRegressor(n_estimators=400, learning_rate = 0.1, max_depth=3, objective=\r\n",
    "                'reg:squarederror')\r\n",
    "xgbr.fit(X_train, y_train)\r\n",
    "# preds = xgbr.predict(X_test)   "
   ],
   "outputs": [
    {
     "output_type": "execute_result",
     "data": {
      "text/plain": [
       "XGBRegressor(base_score=0.5, booster='gbtree', colsample_bylevel=1,\n",
       "             colsample_bynode=1, colsample_bytree=1, gamma=0, gpu_id=-1,\n",
       "             importance_type='gain', interaction_constraints='',\n",
       "             learning_rate=0.1, max_delta_step=0, max_depth=3,\n",
       "             min_child_weight=1, missing=nan, monotone_constraints='()',\n",
       "             n_estimators=400, n_jobs=16, num_parallel_tree=1, random_state=0,\n",
       "             reg_alpha=0, reg_lambda=1, scale_pos_weight=1, subsample=1,\n",
       "             tree_method='exact', validate_parameters=1, verbosity=None)"
      ]
     },
     "metadata": {},
     "execution_count": 38
    }
   ],
   "metadata": {}
  },
  {
   "cell_type": "code",
   "execution_count": 39,
   "source": [
    "cross_val = cross_validate(\r\n",
    "    estimator = xgbr,\r\n",
    "    X = X_train, y=y_train,\r\n",
    "    cv =5\r\n",
    ")\r\n",
    "print('avg fit time: {} (+/- {})'.format(cross_val['fit_time'].mean(), cross_val['fit_time'].std()))\r\n",
    "print('avg score time: {} (+/- {})'.format(cross_val['score_time'].mean(), cross_val['score_time'].std()))\r\n",
    "print('avg test score: {} (+/- {})'.format(cross_val['test_score'].mean(), cross_val['test_score'].std()))"
   ],
   "outputs": [
    {
     "output_type": "stream",
     "name": "stdout",
     "text": [
      "avg fit time: 0.11733860969543457 (+/- 0.0022457322908212706)\n",
      "avg score time: 0.0030005455017089845 (+/- 5.519789172549355e-07)\n",
      "avg test score: 0.03930690483553736 (+/- 0.16938173408531468)\n"
     ]
    }
   ],
   "metadata": {}
  },
  {
   "cell_type": "code",
   "execution_count": 40,
   "source": [
    "fig, ax = plt.subplots(figsize =(10,10))\r\n",
    "plot_importance(xgbr, ax=ax)"
   ],
   "outputs": [
    {
     "output_type": "execute_result",
     "data": {
      "text/plain": [
       "<AxesSubplot:title={'center':'Feature importance'}, xlabel='F score', ylabel='Features'>"
      ]
     },
     "metadata": {},
     "execution_count": 40
    },
    {
     "output_type": "display_data",
     "data": {
      "image/png": "[encoded data removed]",
      "text/plain": [
       "<Figure size 720x720 with 1 Axes>"
      ]
     },
     "metadata": {}
    }
   ],
   "metadata": {
    "scrolled": true
   }
  },
  {
   "cell_type": "markdown",
   "source": [
    "# 중요도가 낮아도 유의미한 변수면 된거임"
   ],
   "metadata": {}
  },
  {
   "cell_type": "markdown",
   "source": [
    "# RMSE 로 평가 -  밑에 두줄만 있으면 어느떄나 사용가능"
   ],
   "metadata": {}
  },
  {
   "cell_type": "code",
   "execution_count": 41,
   "source": [
    "from sklearn.metrics import mean_squared_error"
   ],
   "outputs": [],
   "metadata": {}
  },
  {
   "cell_type": "code",
   "execution_count": 42,
   "source": [
    "#print(np.sqrt(mean_squared_error(실제값, 예측값))"
   ],
   "outputs": [],
   "metadata": {}
  },
  {
   "cell_type": "code",
   "execution_count": null,
   "source": [],
   "outputs": [],
   "metadata": {}
  },
  {
   "cell_type": "code",
   "execution_count": null,
   "source": [],
   "outputs": [],
   "metadata": {}
  },
  {
   "cell_type": "code",
   "execution_count": null,
   "source": [],
   "outputs": [],
   "metadata": {}
  },
  {
   "cell_type": "code",
   "execution_count": null,
   "source": [],
   "outputs": [],
   "metadata": {}
  },
  {
   "cell_type": "code",
   "execution_count": null,
   "source": [],
   "outputs": [],
   "metadata": {}
  }
 ],
 "metadata": {
  "kernelspec": {
   "name": "python3",
   "display_name": "Python 3.8.8 64-bit ('base': conda)"
  },
  "language_info": {
   "codemirror_mode": {
    "name": "ipython",
    "version": 3
   },
   "file_extension": ".py",
   "mimetype": "text/x-python",
   "name": "python",
   "nbconvert_exporter": "python",
   "pygments_lexer": "ipython3",
   "version": "3.8.8"
  },
  "interpreter": {
   "hash": "68a55bb96e7f80eb69c65f42c1f13626224be94d62d6c5fa1c23148fe7dc8829"
  }
 },
 "nbformat": 4,
 "nbformat_minor": 5
}