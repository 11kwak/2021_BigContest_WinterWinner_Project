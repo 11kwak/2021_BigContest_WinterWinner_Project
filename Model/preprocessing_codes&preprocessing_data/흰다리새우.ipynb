{
 "cells": [
  {
   "cell_type": "code",
   "execution_count": 2,
   "source": [
    "import pandas as pd\n",
    "import collections\n"
   ],
   "outputs": [],
   "metadata": {}
  },
  {
   "cell_type": "markdown",
   "source": [
    "## RAW_DATA에서 흰다리 새우만 분류 "
   ],
   "metadata": {}
  },
  {
   "cell_type": "code",
   "execution_count": 123,
   "source": [
    "df = pd.read_csv('RAW_DATA/수산물_통합데이터.csv')\n",
    "\n",
    "# 컬럼값과 조건을 비교하여 그 결과를 새로운 변수에 할당\n",
    "is_shrimp = df['P_NAME'] == '흰다리새우'\n",
    "# 조건을 충족하는 데이터를 필터링하여 새로운 변수에 저장\n",
    "shrimp = df[is_shrimp]\n",
    "\n",
    "# print(shrimp)\n",
    "\n",
    "shrimp = shrimp.drop('Unnamed: 0', axis=1)\n",
    "shrimp.reset_index(drop=True, inplace=True)\n",
    "\n",
    "# print(shrimp)\n",
    "\n",
    "shrimp.to_csv('RAW_DATA/흰다리새우_RAW_데이터.csv')\n",
    "\n"
   ],
   "outputs": [],
   "metadata": {}
  },
  {
   "cell_type": "markdown",
   "source": [
    "## 국가별 분류 "
   ],
   "metadata": {}
  },
  {
   "cell_type": "code",
   "execution_count": 39,
   "source": [
    "df = pd.read_csv('RAW_DATA/흰다리새우_RAW_데이터.csv')\n",
    "\n",
    "nation_list = df['CTRY_2'].unique()\n",
    "\n",
    "for i in nation_list:\n",
    "    is_nation = df['CTRY_2'] == i\n",
    "    nation = df[is_nation]\n",
    "    nation.reset_index(drop=True, inplace=True)\n",
    "    nation.drop('Unnamed: 0', axis=1, inplace=True)\n",
    "    nation.to_csv('RAW_DATA/국가별_분류/흰다리새우_' + i + '.csv')"
   ],
   "outputs": [
    {
     "output_type": "stream",
     "name": "stderr",
     "text": [
      "/Users/anaconda3/envs/WW_project38/lib/python3.8/site-packages/pandas/core/frame.py:4901: SettingWithCopyWarning: \n",
      "A value is trying to be set on a copy of a slice from a DataFrame\n",
      "\n",
      "See the caveats in the documentation: https://pandas.pydata.org/pandas-docs/stable/user_guide/indexing.html#returning-a-view-versus-a-copy\n",
      "  return super().drop(\n"
     ]
    }
   ],
   "metadata": {}
  },
  {
   "cell_type": "markdown",
   "source": [
    "## 국가별 비율"
   ],
   "metadata": {}
  },
  {
   "cell_type": "code",
   "execution_count": 40,
   "source": [
    "df = pd.read_csv('RAW_DATA/흰다리새우_RAW_데이터.csv')\n",
    "# print(df)\n",
    "\n",
    "df.drop('Unnamed: 0', axis=1, inplace=True)\n",
    "\n",
    "# 국가 종류 확인\n",
    "nation_list = df['CTRY_2'].unique()\n",
    "# print(nation_list)\n",
    "# > ['중국' '페루' '태국' '사우디아라비아' '에콰도르' '말레이시아' '베트남' '인도' '인도네시아' '일본' '파나마' '필리핀' '콜롬비아']\n",
    "\n",
    "# 국가별 카운트\n",
    "count = df['CTRY_2'].value_counts()\n",
    "print(count)\n",
    "# 국가 카운트 총 합\n",
    "count_sum = count.sum()\n",
    "# print(count_sum)\n",
    "\n",
    "# 국가 비율\n",
    "percent = count / count_sum\n",
    "# print(percent)\n",
    "\n",
    "nation_df = pd.DataFrame(percent)\n",
    "\n",
    "nation_df['nation_count'] = count\n",
    "# print(nation_df)\n",
    "\n",
    "nation_df.rename(columns={'CTRY_2': 'nation_per'}, inplace=True)\n",
    "# print(nation_df)\n",
    "\n",
    "nation_df.to_csv('RAW_DATA/국가별_분류/흰다리새우_국가별_비율및카운트.csv')"
   ],
   "outputs": [
    {
     "output_type": "stream",
     "name": "stdout",
     "text": [
      "베트남        1214\n",
      "태국          883\n",
      "에콰도르        250\n",
      "말레이시아       233\n",
      "중국          183\n",
      "인도          120\n",
      "페루           84\n",
      "사우디아라비아      69\n",
      "인도네시아        65\n",
      "콜롬비아         16\n",
      "파나마           7\n",
      "일본            5\n",
      "필리핀           4\n",
      "Name: CTRY_2, dtype: int64\n"
     ]
    }
   ],
   "metadata": {}
  },
  {
   "cell_type": "markdown",
   "source": [
    "## 제조국 수출국 다른 경우"
   ],
   "metadata": {}
  },
  {
   "cell_type": "code",
   "execution_count": 41,
   "source": [
    "df = pd.read_csv('RAW_DATA/흰다리새우_RAW_데이터.csv')\n",
    "df.drop('Unnamed: 0', axis=1, inplace=True)\n",
    "\n",
    "nation = df['CTRY_2'].unique()\n",
    "type = df['P_IMPORT_TYPE'].unique()\n",
    "\n",
    "\n",
    "condition = df['CTRY_1'] != df['CTRY_2']\n",
    "\n",
    "different_nation = df[condition]\n",
    "different_nation.reset_index(drop=True, inplace=True)\n",
    "# print(different_nation)\n",
    "\n",
    "different_nation.to_csv('RAW_DATA/국가별_분류/제조국_수출국_다른경우.csv')\n"
   ],
   "outputs": [],
   "metadata": {}
  },
  {
   "cell_type": "markdown",
   "source": [
    "## 국가 수입형태별 퍼센트 "
   ],
   "metadata": {}
  },
  {
   "cell_type": "code",
   "execution_count": 42,
   "source": [
    "df = pd.read_csv('RAW_DATA/흰다리새우_RAW_데이터.csv')\n",
    "df.drop('Unnamed: 0', axis=1, inplace=True)\n",
    "nation_list = df['CTRY_2'].unique()\n",
    "\n",
    "\n",
    "for i in nation_list:\n",
    "    # 국가별 데이터 가져오기\n",
    "    nation_df = pd.read_csv('RAW_DATA/국가별_분류/흰다리새우_' + i + '.csv')\n",
    "    # 국가 종류 알아내기\n",
    "    type = nation_df['P_IMPORT_TYPE'].unique()\n",
    "    # 국가별 카운트\n",
    "    type_count = nation_df['P_IMPORT_TYPE'].value_counts()\n",
    "    # 값 총합\n",
    "    type_count_sum = type_count.sum()\n",
    "    # 국가별 값의 비율\n",
    "    type_percent = round(type_count / type_count_sum, 3)\n",
    "    # numpy로 바꿔줌\n",
    "    type_percent = collections.OrderedDict(type_percent)\n",
    "    # 값 추가\n",
    "    type_percent['국가'] = i\n",
    "    # '국가'열이 맨 앞으로 이동\n",
    "    type_percent.move_to_end('국가', last=False)\n",
    "    # 동적변수설정(데이터에 따라 변수에 저장하기 위해)\n",
    "    globals()[i] = pd.DataFrame(type_percent, index=[0])\n",
    "\n",
    "# Dataframe 병합\n",
    "# 중국, 페루 등이 변수\n",
    "result = pd.concat([중국, 페루, 태국, 사우디아라비아, 에콰도르, 말레이시아,\n",
    "                   베트남, 인도, 인도네시아, 일본, 파나마, 필리핀, 콜롬비아])\n",
    "\n",
    "result.reset_index(drop=True, inplace=True)\n",
    "\n",
    "# NaN값 0으로 변경\n",
    "result = result.fillna(0)\n",
    "\n",
    "# print(result)\n",
    "result.to_csv('RAW_DATA/국가별_분류/흰다리새우_국가별_수입형태_퍼센트.csv')"
   ],
   "outputs": [],
   "metadata": {}
  },
  {
   "cell_type": "markdown",
   "source": [
    "## 수입형태별 분류"
   ],
   "metadata": {}
  },
  {
   "cell_type": "code",
   "execution_count": 43,
   "source": [
    "df = pd.read_csv('RAW_DATA/흰다리새우_RAW_데이터.csv')\n",
    "df.drop('Unnamed: 0', axis=1, inplace=True)\n",
    "\n",
    "type = df['P_IMPORT_TYPE'].unique()\n",
    "print(type)\n",
    "\n",
    "for i in type:\n",
    "    is_type = df['P_IMPORT_TYPE'] == i\n",
    "    type_df = df[is_type]\n",
    "    type_df.reset_index(drop=True, inplace=True)\n",
    "    type_df.to_csv('RAW_DATA/수입형태_분류/흰다리새우_수입형태:_' + i + '.csv')\n"
   ],
   "outputs": [
    {
     "output_type": "stream",
     "name": "stdout",
     "text": [
      "['냉동,살,자숙' '냉동,살' '냉동' '냉동,살,자숙,포장횟감' '냉동,살,포장횟감' '냉장' '냉동,자숙']\n"
     ]
    }
   ],
   "metadata": {}
  },
  {
   "cell_type": "markdown",
   "source": [
    "## 수입형태별 평균단가 및 카운트"
   ],
   "metadata": {}
  },
  {
   "cell_type": "code",
   "execution_count": 44,
   "source": [
    "df = pd.read_csv('RAW_DATA/흰다리새우_RAW_데이터.csv')\n",
    "df.drop('Unnamed: 0', axis=1, inplace=True)\n",
    "\n",
    "type = df['P_IMPORT_TYPE'].unique()\n",
    "# print(type)\n",
    "# > ['냉동,살,자숙' '냉동,살' '냉동' '냉동,살,자숙,포장횟감' '냉동,살,포장횟감' '냉장' '냉동,자숙']\n",
    "\n",
    "dict_type_mean = {}\n",
    "dict_type_count = {}\n",
    "# dict_type_sum = {}\n",
    "\n",
    "for i in type:\n",
    "    is_type = df['P_IMPORT_TYPE'] == i\n",
    "    type_df = df[is_type]\n",
    "    price_mean = type_df['P_PRICE'].mean()\n",
    "    dict_type_mean[i] = round(price_mean, 3)\n",
    "\n",
    "    type_count = type_df['P_PRICE'].count()\n",
    "    dict_type_count[i] = round(type_count, 3)\n",
    "# print(dict_price_mean)\n",
    "\n",
    "mean_price_df = pd.DataFrame(dict_type_mean,  index=['평균단가($)'])\n",
    "type_count_df = pd.DataFrame(dict_type_count, index=['Count'])\n",
    "# type_sum_df = pd.DataFrame(dict_type_sum, index=['평균단가_총합($'])\n",
    "\n",
    "\n",
    "type = pd.concat([mean_price_df, type_count_df])\n",
    "type = type.transpose()\n",
    "print(type)\n",
    "\n",
    "# 파일로 내보내기\n",
    "type.to_csv('RAW_DATA/수입형태_분류/흰다리새우_수입형태별_평균단가및Count_총합.csv')"
   ],
   "outputs": [
    {
     "output_type": "stream",
     "name": "stdout",
     "text": [
      "              평균단가($)  Count\n",
      "냉동,살,자숙         9.712  441.0\n",
      "냉동,살            9.238  760.0\n",
      "냉동              7.229  905.0\n",
      "냉동,살,자숙,포장횟감   17.903  437.0\n",
      "냉동,살,포장횟감      11.620  229.0\n",
      "냉장             10.161  172.0\n",
      "냉동,자숙           8.303  189.0\n"
     ]
    }
   ],
   "metadata": {}
  },
  {
   "cell_type": "markdown",
   "source": [
    "## 국가별 수입형태 평균단가 "
   ],
   "metadata": {}
  },
  {
   "cell_type": "code",
   "execution_count": 45,
   "source": [
    "df = pd.read_csv('RAW_DATA/흰다리새우_RAW_데이터.csv')\n",
    "df.drop('Unnamed: 0', axis=1, inplace=True)\n",
    "nation_list = df['CTRY_2'].unique()\n",
    "\n",
    "\n",
    "for i in nation_list:\n",
    "    # 국가별 데이터 불러오기\n",
    "    nation_df = pd.read_csv('RAW_DATA/국가별_분류/흰다리새우_' + i + '.csv')\n",
    "    # 국가별 타입 종류\n",
    "    type = nation_df['P_IMPORT_TYPE'].unique()\n",
    "    globals()[i] = collections.OrderedDict()  # type = numpy.ndarray\n",
    "\n",
    "    # 타입별 평균 가격\n",
    "    for j in type:\n",
    "        is_type = nation_df['P_IMPORT_TYPE'] == j\n",
    "        type_df = nation_df[is_type]\n",
    "        # print(type_df)\n",
    "\n",
    "        price_mean = type_df['P_PRICE'].mean()\n",
    "        \n",
    "        # 값 할당\n",
    "        globals()[i][j] = round(price_mean, 3)\n",
    "        globals()[i]['국가'] = i\n",
    "\n",
    "        # dataframe으로 변환\n",
    "        globals()[i] = pd.DataFrame(globals()[i], index=[0])\n",
    "\n",
    "\n",
    "# print(중국)\n",
    "# print(페루)\n",
    "\n",
    "# Dataframe 병합\n",
    "nation_type_meanprice = pd.concat(\n",
    "    [중국, 페루, 태국, 사우디아라비아, 에콰도르, 말레이시아, 베트남, 인도, 인도네시아, 일본, 파나마, 필리핀, 콜롬비아])\n",
    "\n",
    "# 인덱스 재설정\n",
    "nation_type_meanprice.reset_index(drop=True, inplace=True)\n",
    "# print(nation_type_meanprice)\n",
    "\n",
    "# 인덱스 이름 설정\n",
    "# nation_type_meanprice.index.name = '평균단가($)'\n",
    "\n",
    "# NaN값 0으로 변경\n",
    "nation_type_meanprice = nation_type_meanprice.fillna(0)\n",
    "\n",
    "# 칼럼 순서 변경\n",
    "nation_type_meanprice = nation_type_meanprice.reindex(\n",
    "    columns=['국가', '냉동,살,자숙', '냉동,살', '냉동', '냉동,살,자숙,포장횟감', '냉동,살,포장횟감', '냉장', '냉동,자숙'])\n",
    "\n",
    "print(nation_type_meanprice)\n",
    "nation_type_meanprice.to_csv('RAW_DATA/국가별_분류/흰다리새우_국가_수입형태별_평균단가.csv')\n"
   ],
   "outputs": [
    {
     "output_type": "stream",
     "name": "stdout",
     "text": [
      "         국가  냉동,살,자숙    냉동,살     냉동  냉동,살,자숙,포장횟감  냉동,살,포장횟감      냉장  냉동,자숙\n",
      "0        중국    7.588   7.369  5.910         0.000      0.000   0.000  0.000\n",
      "1        페루    0.000   0.000  6.617         0.000      0.000   0.000  0.000\n",
      "2        태국   12.810  12.302  8.685        19.195     15.100  10.161  8.529\n",
      "3   사우디아라비아    0.000   0.000  6.518         0.000      0.000   0.000  5.300\n",
      "4      에콰도르    0.000   0.000  7.198         0.000      0.000   0.000  0.000\n",
      "5     말레이시아    0.000   0.000  7.323         0.000      0.000   0.000  8.140\n",
      "6       베트남    8.186   8.556  7.621        16.581     11.604   0.000  7.846\n",
      "7        인도    0.000   8.243  7.903         0.000      0.000   0.000  0.000\n",
      "8     인도네시아    8.485   8.162  7.075         0.000      0.000   0.000  0.000\n",
      "9        일본    0.000   0.000  0.000        20.284      0.000   0.000  0.000\n",
      "10      파나마    0.000   0.000  7.484         0.000      0.000   0.000  0.000\n",
      "11      필리핀    0.000   0.000  7.738         0.000      0.000   0.000  0.000\n",
      "12     콜롬비아    0.000   0.000  5.306         0.000      0.000   0.000  0.000\n"
     ]
    }
   ],
   "metadata": {}
  },
  {
   "cell_type": "markdown",
   "source": [
    "## 수입형태별 국가 비율"
   ],
   "metadata": {}
  },
  {
   "cell_type": "code",
   "execution_count": 50,
   "source": [
    "df = pd.read_csv('RAW_DATA/흰다리새우_RAW_데이터.csv')\n",
    "df.drop('Unnamed: 0', axis=1, inplace=True)\n",
    "nation_list = df['CTRY_2'].unique()\n",
    "type = df['P_IMPORT_TYPE'].unique()\n",
    "\n",
    "type_list = []\n",
    "for i in type:\n",
    "    type_df = df['P_IMPORT_TYPE'] == i\n",
    "    type_df = df[type_df]\n",
    "    nation_count = type_df['CTRY_2'].value_counts()\n",
    "    nation_count_sum = nation_count.sum()\n",
    "    nation_percent = nation_count / nation_count_sum\n",
    "    nation_percent = collections.OrderedDict(round(nation_percent, 3))\n",
    "    nation_percent['수입형태'] = i\n",
    "    nation_percent.move_to_end('수입형태', last=False)\n",
    "    # , 를 _로 바꿔 변수로 저장\n",
    "    x = globals()[i.replace(',', '_')\n",
    "                  ] = pd.DataFrame(nation_percent, index=[0])\n",
    "    type_list.append(i.replace(',', '_'))\n",
    "\n",
    "# 변수 이름\n",
    "# print(type_list)\n",
    "# ['냉동_살_자숙', '냉동_살', '냉동', '냉동_살_자숙_포장횟감', '냉동_살_포장횟감', '냉장', '냉동_자숙']\n",
    "\n",
    "# Dataframe 병합\n",
    "type_nation_percent = pd.concat(\n",
    "    [냉동_살_자숙, 냉동_살, 냉동, 냉동_살_자숙_포장횟감, 냉동_살_포장횟감, 냉장, 냉동_자숙])\n",
    "\n",
    "# NaN값 0으로 변경\n",
    "type_nation_percent = type_nation_percent.fillna(0)\n",
    "\n",
    "# 인덱스 변경\n",
    "type_nation_percent.set_index('수입형태', inplace=True)\n",
    "\n",
    "\n",
    "# 칼럼명 변경\n",
    "type_nation_percent.index.name = ''\n",
    "\n",
    "print(type_nation_percent)\n",
    "type_nation_percent.to_csv('RAW_DATA/수입형태_분류/흰다리새우_수입형태별_국가비율.csv')\n"
   ],
   "outputs": [
    {
     "output_type": "stream",
     "name": "stdout",
     "text": [
      "                베트남     태국     중국  인도네시아     인도   에콰도르  말레이시아     페루  사우디아라비아  \\\n",
      "                                                                                \n",
      "냉동,살,자숙       0.587  0.336  0.054  0.023  0.000  0.000  0.000  0.000    0.000   \n",
      "냉동,살          0.358  0.263  0.208  0.041  0.130  0.000  0.000  0.000    0.000   \n",
      "냉동            0.204  0.024  0.001  0.027  0.023  0.276  0.246  0.093    0.075   \n",
      "냉동,살,자숙,포장횟감  0.499  0.490  0.000  0.000  0.000  0.000  0.000  0.000    0.000   \n",
      "냉동,살,포장횟감     0.996  0.004  0.000  0.000  0.000  0.000  0.000  0.000    0.000   \n",
      "냉장            0.000  1.000  0.000  0.000  0.000  0.000  0.000  0.000    0.000   \n",
      "냉동,자숙         0.275  0.667  0.000  0.000  0.000  0.000  0.053  0.000    0.005   \n",
      "\n",
      "               콜롬비아    파나마    필리핀     일본  \n",
      "                                          \n",
      "냉동,살,자숙       0.000  0.000  0.000  0.000  \n",
      "냉동,살          0.000  0.000  0.000  0.000  \n",
      "냉동            0.018  0.008  0.004  0.000  \n",
      "냉동,살,자숙,포장횟감  0.000  0.000  0.000  0.011  \n",
      "냉동,살,포장횟감     0.000  0.000  0.000  0.000  \n",
      "냉장            0.000  0.000  0.000  0.000  \n",
      "냉동,자숙         0.000  0.000  0.000  0.000  \n"
     ]
    }
   ],
   "metadata": {}
  },
  {
   "cell_type": "markdown",
   "source": [
    "# 수입용도"
   ],
   "metadata": {}
  },
  {
   "cell_type": "code",
   "execution_count": 51,
   "source": [
    "df = pd.read_csv('RAW_DATA/흰다리새우_RAW_데이터.csv')\n",
    "\n",
    "print(df['P_PURPOSE'].unique())"
   ],
   "outputs": [
    {
     "output_type": "stream",
     "name": "stdout",
     "text": [
      "['판매용' '자사제품제조용']\n"
     ]
    }
   ],
   "metadata": {}
  },
  {
   "cell_type": "markdown",
   "source": [
    "## 수입용도가 판매용일 경우"
   ],
   "metadata": {}
  },
  {
   "cell_type": "code",
   "execution_count": 52,
   "source": [
    "is_purpose = df['P_PURPOSE'] == '판매용'\n",
    "\n",
    "purpose = df[is_purpose]\n",
    "\n",
    "purpose.drop(['Unnamed: 0'], axis=1, inplace=True)\n",
    "\n",
    "purpose.reset_index(drop=True, inplace=True)\n",
    "\n",
    "# print(purpose)\n",
    "purpose.to_csv('RAW_DATA/수입용도_분류/흰다리새우_판매용.csv')"
   ],
   "outputs": [
    {
     "output_type": "stream",
     "name": "stderr",
     "text": [
      "/Users/anaconda3/envs/WW_project38/lib/python3.8/site-packages/pandas/core/frame.py:4901: SettingWithCopyWarning: \n",
      "A value is trying to be set on a copy of a slice from a DataFrame\n",
      "\n",
      "See the caveats in the documentation: https://pandas.pydata.org/pandas-docs/stable/user_guide/indexing.html#returning-a-view-versus-a-copy\n",
      "  return super().drop(\n"
     ]
    }
   ],
   "metadata": {}
  },
  {
   "cell_type": "markdown",
   "source": [
    "## 수입용도가 자사제품제조용일 경우"
   ],
   "metadata": {}
  },
  {
   "cell_type": "code",
   "execution_count": 53,
   "source": [
    "is_purpose = df['P_PURPOSE'] == '자사제품제조용'\n",
    "\n",
    "purpose = df[is_purpose]\n",
    "\n",
    "purpose.drop(['Unnamed: 0'], axis=1, inplace=True)\n",
    "\n",
    "purpose.reset_index(drop=True, inplace=True)\n",
    "\n",
    "# print(purpose)\n",
    "purpose.to_csv('RAW_DATA/수입용도_분류/흰다리새우_자사제품제조용.csv')"
   ],
   "outputs": [],
   "metadata": {}
  },
  {
   "cell_type": "markdown",
   "source": [
    "## 주별 P_PRICE 평균, 단가총합, 카운트"
   ],
   "metadata": {}
  },
  {
   "cell_type": "code",
   "execution_count": 54,
   "source": [
    "df = pd.read_csv('RAW_DATA/흰다리새우_RAW_데이터.csv')\n",
    "# print(df)\n",
    "df.drop('Unnamed: 0', axis=1, inplace=True)\n",
    "\n",
    "date_list = df['REG_DATE'].unique()\n",
    "\n",
    "date_price_mean = {}\n",
    "\n",
    "for i in date_list:\n",
    "    is_date = df['REG_DATE'] == i\n",
    "    date_df = df[is_date]\n",
    "    date_mean_price = date_df['P_PRICE'].mean()\n",
    "    date_price_mean[i] = round(date_mean_price,4)\n",
    "\n",
    "\n",
    "date_price_mean = pd.DataFrame(date_price_mean, index=['P_PRICE_평균($)'])\n",
    "\n",
    "\n",
    "date_price = date_price_mean.transpose()\n",
    "\n",
    "date_price.to_csv('RAW_DATA/흰다리새우_주별_평균단가.csv')"
   ],
   "outputs": [],
   "metadata": {}
  },
  {
   "cell_type": "markdown",
   "source": [
    "## 주별 P_PRICE 평균단가 총합"
   ],
   "metadata": {}
  },
  {
   "cell_type": "code",
   "execution_count": 55,
   "source": [
    "df = pd.read_csv('RAW_DATA/흰다리새우_RAW_데이터.csv')\n",
    "df.drop('Unnamed: 0', axis=1, inplace=True)\n",
    "\n",
    "date_list = df['REG_DATE'].unique()\n",
    "\n",
    "date_price_sum = {}\n",
    "\n",
    "\n",
    "for i in date_list:\n",
    "    is_date = df['REG_DATE'] == i\n",
    "    date_df = df[is_date]\n",
    "    date_sum_price = date_df['P_PRICE'].sum()\n",
    "    # 딕셔너리에 키, 값 할당\n",
    "    date_price_sum[i] = round(date_sum_price, 3)\n",
    "\n",
    "date_price_sum = pd.DataFrame(date_price_sum, index=['평균단가_총합($)'])\n",
    "date_price_sum = date_price_sum.transpose()\n",
    "\n",
    "# print(date_price_sum)\n",
    "date_price_sum.to_csv('RAW_DATA/흰다리새우_주별_평균단가총합.csv')\n",
    "\n"
   ],
   "outputs": [],
   "metadata": {}
  },
  {
   "cell_type": "markdown",
   "source": [
    "## 주별 P_PRICE 카운트"
   ],
   "metadata": {}
  },
  {
   "cell_type": "code",
   "execution_count": 56,
   "source": [
    "df = pd.read_csv('RAW_DATA/흰다리새우_RAW_데이터.csv')\n",
    "df.drop('Unnamed: 0', axis=1, inplace=True)\n",
    "\n",
    "date_list = df['REG_DATE'].unique()\n",
    "\n",
    "date_price_count = {}\n",
    "\n",
    "for i in date_list:\n",
    "    is_date = df['REG_DATE'] == i\n",
    "    date_df = df[is_date]\n",
    "    date_count_price = date_df['P_PRICE'].count()\n",
    "    date_price_count[i] = date_count_price\n",
    "\n",
    "date_price_count = pd.DataFrame(date_price_count, index=['Count'])\n",
    "date_price_count= date_price_count.transpose()\n",
    "\n",
    "print(date_price_count)\n",
    "date_price_count.to_csv('RAW_DATA/흰다리새우_주별_평균단가카운트.csv')\n"
   ],
   "outputs": [
    {
     "output_type": "stream",
     "name": "stdout",
     "text": [
      "            Count\n",
      "2015-12-28     15\n",
      "2016-01-04     13\n",
      "2016-01-11     13\n",
      "2016-01-18     13\n",
      "2016-01-25     17\n",
      "...           ...\n",
      "2020-11-30      7\n",
      "2020-12-07     10\n",
      "2020-12-14     10\n",
      "2020-12-21     10\n",
      "2020-12-28     11\n",
      "\n",
      "[262 rows x 1 columns]\n"
     ]
    }
   ],
   "metadata": {}
  },
  {
   "cell_type": "markdown",
   "source": [
    "## 주별 수입형태별 카운트"
   ],
   "metadata": {}
  },
  {
   "cell_type": "code",
   "execution_count": 59,
   "source": [
    "df = pd.read_csv('RAW_DATA/흰다리새우_RAW_데이터.csv')\n",
    "df.drop('Unnamed: 0', axis=1, inplace=True)\n",
    "# print(df.head(2))\n",
    "\n",
    "date_list = df['REG_DATE'].unique()\n",
    "type_list = df['P_IMPORT_TYPE'].unique()\n",
    "\n",
    "\n",
    "type1_count = {}\n",
    "type2_count = {}\n",
    "type3_count = {}\n",
    "type4_count = {}\n",
    "type5_count = {}\n",
    "type6_count = {}\n",
    "type7_count = {}\n",
    "type_count = {}\n",
    "price_dict = {}\n",
    "\n",
    "for i in date_list:\n",
    "    is_date = df['REG_DATE'] == i\n",
    "    date_df = df[is_date]\n",
    "    type_1 = date_df['P_IMPORT_TYPE'] == '냉동,살,자숙'\n",
    "    type_1 = date_df[type_1]\n",
    "    type1_count[i] = type_1['P_IMPORT_TYPE'].count()\n",
    "\n",
    "    type_2 = date_df['P_IMPORT_TYPE'] == '냉동,살'\n",
    "    type_2 = date_df[type_2]\n",
    "    type2_count[i] = type_2['P_IMPORT_TYPE'].count()\n",
    "\n",
    "    type_3 = date_df['P_IMPORT_TYPE'] == '냉동'\n",
    "    type_3 = date_df[type_3]\n",
    "    type3_count[i] = type_3['P_IMPORT_TYPE'].count()\n",
    "\n",
    "    type_4 = date_df['P_IMPORT_TYPE'] == '냉동,살,자숙,포장횟감'\n",
    "    type_4 = date_df[type_4]\n",
    "    type4_count[i] = type_4['P_IMPORT_TYPE'].count()\n",
    "\n",
    "    type_5 = date_df['P_IMPORT_TYPE'] == '냉동,살,포장횟감'\n",
    "    type_5 = date_df[type_5]\n",
    "    type5_count[i] = type_5['P_IMPORT_TYPE'].count()\n",
    "\n",
    "    type_6 = date_df['P_IMPORT_TYPE'] == '냉장'\n",
    "    type_6 = date_df[type_6]\n",
    "    type6_count[i] = type_6['P_IMPORT_TYPE'].count()\n",
    "\n",
    "    type_7 = date_df['P_IMPORT_TYPE'] == '냉동,자숙'\n",
    "    type_7 = date_df[type_7]\n",
    "    type7_count[i] = type_7['P_IMPORT_TYPE'].count()\n",
    "\n",
    "    type_count[i] = date_df['P_IMPORT_TYPE'].count()\n",
    "\n",
    "    price = date_df['P_PRICE'].mean()\n",
    "    price_dict[i] = price\n",
    "\n",
    "\n",
    "type1_count = pd.DataFrame(type1_count, index=['냉동,살,자숙'])\n",
    "type2_count = pd.DataFrame(type2_count, index=['냉동,살'])\n",
    "type3_count = pd.DataFrame(type3_count, index=['냉동'])\n",
    "type4_count = pd.DataFrame(type4_count, index=['냉동,살,자숙,포장횟감'])\n",
    "type5_count = pd.DataFrame(type5_count, index=['냉동,살,포장횟감'])\n",
    "type6_count = pd.DataFrame(type6_count, index=['냉장'])\n",
    "type7_count = pd.DataFrame(type7_count, index=['냉동,자숙'])\n",
    "type_count = pd.DataFrame(type_count, index=['Week Count'])\n",
    "price_dict = pd.DataFrame(price_dict, index=['평균단가($) 평균'])\n",
    "\n",
    "\n",
    "# > ['냉동,살,자숙' '냉동,살' '냉동' '냉동,살,자숙,포장횟감' '냉동,살,포장횟감' '냉장' '냉동,자숙']\n",
    "\n",
    "type_count = pd.concat([type1_count, type2_count, type3_count,\n",
    "                       type4_count, type5_count, type6_count, type7_count, type_count, price_dict])\n",
    "\n",
    "type_count = type_count.transpose()\n",
    "\n",
    "print(type_count)\n",
    "type_count.to_csv('RAW_DATA/흰다리새우_주별_수입형태count.csv')\n"
   ],
   "outputs": [
    {
     "output_type": "stream",
     "name": "stdout",
     "text": [
      "            냉동,살,자숙  냉동,살   냉동  냉동,살,자숙,포장횟감  냉동,살,포장횟감   냉장  냉동,자숙  \\\n",
      "2015-12-28      3.0   3.0  5.0           2.0        1.0  1.0    0.0   \n",
      "2016-01-04      3.0   3.0  5.0           0.0        1.0  1.0    0.0   \n",
      "2016-01-11      2.0   3.0  4.0           2.0        1.0  1.0    0.0   \n",
      "2016-01-18      2.0   3.0  4.0           1.0        1.0  1.0    1.0   \n",
      "2016-01-25      2.0   5.0  5.0           2.0        1.0  1.0    1.0   \n",
      "...             ...   ...  ...           ...        ...  ...    ...   \n",
      "2020-11-30      1.0   2.0  3.0           0.0        1.0  0.0    0.0   \n",
      "2020-12-07      2.0   2.0  3.0           2.0        0.0  0.0    1.0   \n",
      "2020-12-14      2.0   3.0  3.0           2.0        0.0  0.0    0.0   \n",
      "2020-12-21      1.0   3.0  3.0           1.0        1.0  0.0    1.0   \n",
      "2020-12-28      2.0   3.0  3.0           2.0        1.0  0.0    0.0   \n",
      "\n",
      "            Week Count  평균단가($) 평균  \n",
      "2015-12-28        15.0    9.922000  \n",
      "2016-01-04        13.0    9.279231  \n",
      "2016-01-11        13.0   10.658462  \n",
      "2016-01-18        13.0    9.308462  \n",
      "2016-01-25        17.0    9.400000  \n",
      "...                ...         ...  \n",
      "2020-11-30         7.0    8.764286  \n",
      "2020-12-07        10.0    9.614000  \n",
      "2020-12-14        10.0    9.702000  \n",
      "2020-12-21        10.0    9.889000  \n",
      "2020-12-28        11.0   10.782727  \n",
      "\n",
      "[262 rows x 9 columns]\n"
     ]
    }
   ],
   "metadata": {}
  },
  {
   "cell_type": "markdown",
   "source": [
    "## 국가 수입형태별 카운트"
   ],
   "metadata": {}
  },
  {
   "cell_type": "code",
   "execution_count": 64,
   "source": [
    "df = pd.read_csv('RAW_DATA/흰다리새우_RAW_데이터.csv')\n",
    "df.drop('Unnamed: 0', axis=1, inplace=True)\n",
    "\n",
    "nation_list = df['CTRY_2'].unique()\n",
    "type_list = df['P_IMPORT_TYPE'].unique()\n",
    "\n",
    "\n",
    "type1_count = {}\n",
    "type2_count = {}\n",
    "type3_count = {}\n",
    "type4_count = {}\n",
    "type5_count = {}\n",
    "type6_count = {}\n",
    "type7_count = {}\n",
    "\n",
    "for i in nation_list:\n",
    "    is_nation = df['CTRY_2'] == i\n",
    "    nation = df[is_nation]\n",
    "    type_1 = nation['P_IMPORT_TYPE'] == '냉동,살,자숙'\n",
    "    type_1 = nation[type_1]\n",
    "    type1_count[i] = type_1['P_IMPORT_TYPE'].count()\n",
    "\n",
    "    type_2 = nation['P_IMPORT_TYPE'] == '냉동,살'\n",
    "    type_2 = nation[type_2]\n",
    "    type2_count[i] = type_2['P_IMPORT_TYPE'].count()\n",
    "\n",
    "    type_3 = nation['P_IMPORT_TYPE'] == '냉동'\n",
    "    type_3 = nation[type_3]\n",
    "    type3_count[i] = type_3['P_IMPORT_TYPE'].count()\n",
    "\n",
    "    type_4 = nation['P_IMPORT_TYPE'] == '냉동,살,자숙,포장횟감'\n",
    "    type_4 = nation[type_4]\n",
    "    type4_count[i] = type_4['P_IMPORT_TYPE'].count()\n",
    "\n",
    "    type_5 = nation['P_IMPORT_TYPE'] == '냉동,살,포장횟감'\n",
    "    type_5 = nation[type_5]\n",
    "    type5_count[i] = type_5['P_IMPORT_TYPE'].count()\n",
    "\n",
    "    type_6 = nation['P_IMPORT_TYPE'] == '냉장'\n",
    "    type_6 = nation[type_6]\n",
    "    type6_count[i] = type_6['P_IMPORT_TYPE'].count()\n",
    "\n",
    "    type_7 = nation['P_IMPORT_TYPE'] == '냉동,자숙'\n",
    "    type_7 = nation[type_7]\n",
    "    type7_count[i] = type_7['P_IMPORT_TYPE'].count()\n",
    "\n",
    "\n",
    "type1_count = pd.DataFrame(type1_count, index=['냉동,살,자숙'])\n",
    "type2_count = pd.DataFrame(type2_count, index=['냉동,살'])\n",
    "type3_count = pd.DataFrame(type3_count, index=['냉동'])\n",
    "type4_count = pd.DataFrame(type4_count, index=['냉동,살,자숙,포장횟감'])\n",
    "type5_count = pd.DataFrame(type5_count, index=['냉동,살,포장횟감'])\n",
    "type6_count = pd.DataFrame(type6_count, index=['냉장'])\n",
    "type7_count = pd.DataFrame(type7_count, index=['냉동,자숙'])\n",
    "\n",
    "nation_type_count = pd.concat([type1_count, type2_count, type3_count,\n",
    "                               type4_count, type5_count, type6_count, type7_count])\n",
    "\n",
    "nation_type_count = nation_type_count\n",
    "\n",
    "print(nation_type_count)\n",
    "nation_type_count.to_csv('RAW_DATA/국가별_분류/국가_수입형태별_Count.csv')\n"
   ],
   "outputs": [
    {
     "output_type": "stream",
     "name": "stdout",
     "text": [
      "               중국  페루   태국  사우디아라비아  에콰도르  말레이시아  베트남  인도  인도네시아  일본  파나마  \\\n",
      "냉동,살,자숙        24   0  148        0     0      0  259   0     10   0    0   \n",
      "냉동,살          158   0  200        0     0      0  272  99     31   0    0   \n",
      "냉동              1  84   22       68   250    223  185  21     24   0    7   \n",
      "냉동,살,자숙,포장횟감    0   0  214        0     0      0  218   0      0   5    0   \n",
      "냉동,살,포장횟감       0   0    1        0     0      0  228   0      0   0    0   \n",
      "냉장              0   0  172        0     0      0    0   0      0   0    0   \n",
      "냉동,자숙           0   0  126        1     0     10   52   0      0   0    0   \n",
      "\n",
      "              필리핀  콜롬비아  \n",
      "냉동,살,자숙         0     0  \n",
      "냉동,살            0     0  \n",
      "냉동              4    16  \n",
      "냉동,살,자숙,포장횟감    0     0  \n",
      "냉동,살,포장횟감       0     0  \n",
      "냉장              0     0  \n",
      "냉동,자숙           0     0  \n"
     ]
    }
   ],
   "metadata": {}
  },
  {
   "cell_type": "markdown",
   "source": [
    "## 수입형태 별 주별 평균단가 총합"
   ],
   "metadata": {}
  },
  {
   "cell_type": "code",
   "execution_count": 69,
   "source": [
    "df = pd.read_csv('RAW_DATA/흰다리새우_RAW_데이터.csv')\n",
    "df.drop('Unnamed: 0', axis=1, inplace=True)\n",
    "\n",
    "\n",
    "date_list = df['REG_DATE'].unique()\n",
    "type_list = df['P_IMPORT_TYPE'].unique()\n",
    "\n",
    "\n",
    "type0_price = {}\n",
    "type1_price = {}\n",
    "type2_price = {}\n",
    "type3_price = {}\n",
    "type4_price = {}\n",
    "type5_price = {}\n",
    "type6_price = {}\n",
    "\n",
    "for i in date_list:\n",
    "    is_date = df['REG_DATE'] == i\n",
    "    date_df = df[is_date]\n",
    "\n",
    "    for j, type in enumerate(type_list):\n",
    "        is_type = date_df['P_IMPORT_TYPE'] == type\n",
    "        type_df = date_df[is_type]\n",
    "        price_sum = type_df['P_PRICE'].sum()\n",
    "        globals()[f'type{j}_price'][i] = price_sum\n",
    "\n",
    "for j, type in enumerate(type_list):\n",
    "    globals()[f'type{j}_price'] = pd.DataFrame(\n",
    "        globals()[f'type{j}_price'], index=[type])\n",
    "\n",
    "# print(type0_price)\n",
    "type_price = pd.concat([type0_price, type1_price, type2_price,\n",
    "                        type3_price, type4_price, type5_price, type6_price])\n",
    "\n",
    "type_price = type_price.transpose()\n",
    "\n",
    "print(type_price)\n",
    "type_price.to_csv('RAW_DATA/흰다리새우_주별_수입형태_평균단가총합.csv')\n"
   ],
   "outputs": [
    {
     "output_type": "stream",
     "name": "stdout",
     "text": [
      "            냉동,살,자숙   냉동,살     냉동  냉동,살,자숙,포장횟감  냉동,살,포장횟감    냉장  냉동,자숙\n",
      "2015-12-28    28.00  30.42  33.05         35.33      12.90  9.13   0.00\n",
      "2016-01-04    30.31  32.18  37.90          0.00      10.86  9.38   0.00\n",
      "2016-01-11    20.81  30.69  29.06         35.11      13.62  9.27   0.00\n",
      "2016-01-18    19.72  29.55  26.74         15.95      11.70  9.38   7.97\n",
      "2016-01-25    20.11  45.07  32.62         35.33       9.67  9.36   7.64\n",
      "...             ...    ...    ...           ...        ...   ...    ...\n",
      "2020-11-30     7.28  23.39  18.51          0.00      12.17  0.00   0.00\n",
      "2020-12-07    20.20  18.63  19.53         29.71       0.00  0.00   8.07\n",
      "2020-12-14    20.25  26.89  18.28         31.60       0.00  0.00   0.00\n",
      "2020-12-21     6.24  31.45  20.43         17.44      13.18  0.00  10.15\n",
      "2020-12-28    23.61  25.62  18.00         37.81      13.57  0.00   0.00\n",
      "\n",
      "[262 rows x 7 columns]\n"
     ]
    }
   ],
   "metadata": {}
  },
  {
   "cell_type": "markdown",
   "source": [
    "## 주별 국가 카운트"
   ],
   "metadata": {}
  },
  {
   "cell_type": "code",
   "execution_count": 72,
   "source": [
    "df = pd.read_csv('RAW_DATA/흰다리새우_RAW_데이터.csv')\n",
    "\n",
    "date_list = df['REG_DATE'].unique()\n",
    "nation_list = df['CTRY_2'].unique()\n",
    "# print(len(nation_list))\n",
    "\n",
    "for j, nation in enumerate(nation_list):\n",
    "    globals()[f'nation{j}_count'] = {}\n",
    "\n",
    "for i in date_list:\n",
    "    is_date = df['REG_DATE'] == i\n",
    "    date_df = df[is_date]\n",
    "\n",
    "    for j, nation in enumerate(nation_list):\n",
    "        is_nation = date_df['CTRY_2'] == nation\n",
    "        nation_df = date_df[is_nation]\n",
    "        nation_count = nation_df['CTRY_2'].count()\n",
    "        globals()[f'nation{j}_count'][i] = nation_count\n",
    "\n",
    "for j, nation in enumerate(nation_list):\n",
    "    globals()[f'nation{j}_count'] = pd.DataFrame(\n",
    "        globals()[f'nation{j}_count'], index=[nation])\n",
    "\n",
    "\n",
    "nation_count = pd.concat([nation0_count, nation1_count, nation2_count, nation3_count, nation4_count,\n",
    "                         nation5_count, nation6_count, nation7_count, nation8_count, nation9_count, nation10_count, nation11_count, nation12_count])\n",
    "\n",
    "nation_count = nation_count.transpose()\n",
    "\n",
    "print(nation_count)\n",
    "\n",
    "nation_count.to_csv('RAW_DATA/주별_국가_카운트.csv')"
   ],
   "outputs": [
    {
     "output_type": "stream",
     "name": "stdout",
     "text": [
      "            중국  페루  태국  사우디아라비아  에콰도르  말레이시아  베트남  인도  인도네시아  일본  파나마  필리핀  \\\n",
      "2015-12-28   2   1   4        1     1      1    5   0      0   0    0    0   \n",
      "2016-01-04   1   0   3        1     1      1    5   1      0   0    0    0   \n",
      "2016-01-11   1   0   5        0     1      1    5   0      0   0    0    0   \n",
      "2016-01-18   2   0   4        0     1      1    5   0      0   0    0    0   \n",
      "2016-01-25   1   0   6        1     1      1    5   1      1   0    0    0   \n",
      "...         ..  ..  ..      ...   ...    ...  ...  ..    ...  ..  ...  ...   \n",
      "2020-11-30   0   1   1        0     1      1    3   0      0   0    0    0   \n",
      "2020-12-07   0   1   4        0     1      1    3   0      0   0    0    0   \n",
      "2020-12-14   0   1   3        0     1      1    3   1      0   0    0    0   \n",
      "2020-12-21   0   1   3        0     1      1    3   1      0   0    0    0   \n",
      "2020-12-28   0   1   3        0     1      1    4   0      1   0    0    0   \n",
      "\n",
      "            콜롬비아  \n",
      "2015-12-28     0  \n",
      "2016-01-04     0  \n",
      "2016-01-11     0  \n",
      "2016-01-18     0  \n",
      "2016-01-25     0  \n",
      "...          ...  \n",
      "2020-11-30     0  \n",
      "2020-12-07     0  \n",
      "2020-12-14     0  \n",
      "2020-12-21     0  \n",
      "2020-12-28     0  \n",
      "\n",
      "[262 rows x 13 columns]\n"
     ]
    }
   ],
   "metadata": {}
  }
 ],
 "metadata": {
  "orig_nbformat": 4,
  "language_info": {
   "name": "python",
   "version": "3.8.11",
   "mimetype": "text/x-python",
   "codemirror_mode": {
    "name": "ipython",
    "version": 3
   },
   "pygments_lexer": "ipython3",
   "nbconvert_exporter": "python",
   "file_extension": ".py"
  },
  "kernelspec": {
   "name": "python3",
   "display_name": "Python 3.8.11 64-bit ('WW_project38': conda)"
  },
  "interpreter": {
   "hash": "baedb65c5a8f147eeafe81de63b70079e6e12c3495410669f2e4159360101cf7"
  }
 },
 "nbformat": 4,
 "nbformat_minor": 2
}